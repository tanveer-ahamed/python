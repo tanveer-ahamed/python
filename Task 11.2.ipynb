{
 "cells": [
  {
   "cell_type": "code",
   "execution_count": null,
   "id": "fa8196a3",
   "metadata": {},
   "outputs": [],
   "source": [
    "# Task 11.2"
   ]
  },
  {
   "cell_type": "code",
   "execution_count": null,
   "id": "cd9c97a0",
   "metadata": {},
   "outputs": [],
   "source": [
    "# Ask 2 numbers from users and store it in num1 and num2\n",
    "# Ask user to press 1 for addition, 2 for subtraction, 3 for multiplication, 4 for division\n",
    "# create 4 seperate functions for each operation (i.e, addition, subtraction, multiplication, division)\n",
    "# based on the number given by user, call that particular function and print the output"
   ]
  },
  {
   "cell_type": "code",
   "execution_count": 1,
   "id": "5ec3fd3b",
   "metadata": {},
   "outputs": [
    {
     "name": "stdout",
     "output_type": "stream",
     "text": [
      "Enter the first number:25\n",
      "Enter the second number5\n",
      "num1: 25\n",
      "num2: 5\n",
      "press the number 1 for Addition:\n",
      "press the number 2 for Subtraction:\n",
      "press the number 3 for Multiplication:\n",
      "press the number 4 for Division:\n",
      "press the number: 4\n",
      "Division of num1 and num2: 5.0\n"
     ]
    }
   ],
   "source": [
    "num1 = int(input(\"Enter the first number:\"))\n",
    "num2 = int(input(\"Enter the second number\"))\n",
    "print(\"num1:\", num1)\n",
    "print(\"num2:\", num2)\n",
    "\n",
    "num = int(input(\"press the number 1 for Addition:\\n\"\n",
    "                \"press the number 2 for Subtraction:\\n\"\n",
    "                \"press the number 3 for Multiplication:\\n\"\n",
    "                \"press the number 4 for Division:\\n\"\n",
    "                \"press the number: \"))\n",
    "\n",
    "def add(num1, num2):\n",
    "    z = num1 + num2\n",
    "    if(num==1):\n",
    "        print(\"addition of num1 and num2:\",z) \n",
    "add(num1, num2)\n",
    "    \n",
    "\n",
    "def sub(num1, num2):\n",
    "    z = num1 - num2\n",
    "    if(num==2):\n",
    "        print(\"Subtraction of num1 and num2:\",z)\n",
    "sub(num1, num2)\n",
    "     \n",
    "\n",
    "def multiply(num1, num2):\n",
    "    z = num1 * num2\n",
    "    if(num==3):\n",
    "        print(\"Multiplication of num1 and num2:\",z)\n",
    "multiply(num1, num2)\n",
    "\n",
    "if(num2==0):\n",
    "    print(\"Enter num2 a non - zero number\")\n",
    "else:    \n",
    "    def division(num1, num2):\n",
    "        if(num==4):\n",
    "            z = num1 / num2\n",
    "            print(\"Division of num1 and num2:\",z)\n",
    "         \n",
    "    division(num1, num2)"
   ]
  }
 ],
 "metadata": {
  "kernelspec": {
   "display_name": "Python 3",
   "language": "python",
   "name": "python3"
  },
  "language_info": {
   "codemirror_mode": {
    "name": "ipython",
    "version": 3
   },
   "file_extension": ".py",
   "mimetype": "text/x-python",
   "name": "python",
   "nbconvert_exporter": "python",
   "pygments_lexer": "ipython3",
   "version": "3.8.8"
  }
 },
 "nbformat": 4,
 "nbformat_minor": 5
}
