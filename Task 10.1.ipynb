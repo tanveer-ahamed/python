{
 "cells": [
  {
   "cell_type": "code",
   "execution_count": null,
   "id": "e4282f76",
   "metadata": {},
   "outputs": [],
   "source": [
    "# Task 10.1\n",
    "# what is the usage of continue with an example"
   ]
  },
  {
   "cell_type": "markdown",
   "id": "7268afea",
   "metadata": {},
   "source": [
    "# continue\n",
    "The continue statement instructs a loop to continue to the next iteration.\n",
    "You can use a continue statement to skip over part of a loop when a condition is met. Then, the rest of a loop will continue running."
   ]
  },
  {
   "cell_type": "code",
   "execution_count": 1,
   "id": "b1db45cf",
   "metadata": {},
   "outputs": [
    {
     "name": "stdout",
     "output_type": "stream",
     "text": [
      "9\n",
      "7\n",
      "5\n",
      "3\n",
      "1\n"
     ]
    }
   ],
   "source": [
    "#Example\n",
    "\n",
    "count = 10\n",
    "while(count>1):\n",
    "    count = count - 1\n",
    "    if(count%2 ==0):\n",
    "        continue\n",
    "    print(count) "
   ]
  }
 ],
 "metadata": {
  "kernelspec": {
   "display_name": "Python 3",
   "language": "python",
   "name": "python3"
  },
  "language_info": {
   "codemirror_mode": {
    "name": "ipython",
    "version": 3
   },
   "file_extension": ".py",
   "mimetype": "text/x-python",
   "name": "python",
   "nbconvert_exporter": "python",
   "pygments_lexer": "ipython3",
   "version": "3.8.8"
  }
 },
 "nbformat": 4,
 "nbformat_minor": 5
}
