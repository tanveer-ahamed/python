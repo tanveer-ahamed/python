{
 "cells": [
  {
   "cell_type": "code",
   "execution_count": null,
   "id": "8b1ae878",
   "metadata": {},
   "outputs": [],
   "source": [
    "# Task 11.1\n",
    "\n",
    "# Explain Return Keyword with example"
   ]
  },
  {
   "cell_type": "markdown",
   "id": "f515a506",
   "metadata": {},
   "source": [
    "# Return Keyword:"
   ]
  },
  {
   "cell_type": "code",
   "execution_count": null,
   "id": "f2d0b9ae",
   "metadata": {},
   "outputs": [],
   "source": [
    "A return keyword is used to end the execution of the function call and returns the result \n",
    "(value of the expression following the return keyword) to the caller. \n",
    "\n",
    "The statements after the return statements are not executed. \n",
    "If the return statement is without any expression, then the special value None is returned. \n",
    "Return statement can not be used outside the function.\n",
    "\n",
    " Syntax: \n",
    "\n",
    "def fun():\n",
    "    statements\n",
    "    .\n",
    "    .\n",
    "    return [expression]"
   ]
  },
  {
   "cell_type": "code",
   "execution_count": 3,
   "id": "df5b59a2",
   "metadata": {},
   "outputs": [
    {
     "name": "stdout",
     "output_type": "stream",
     "text": [
      "Enter the first number:25\n",
      "Enter the second number:5\n",
      "result: 30\n",
      "30\n"
     ]
    }
   ],
   "source": [
    "def my_function():\n",
    "    a = int(input(\"Enter the first number:\"))\n",
    "    b = int(input(\"Enter the second number:\"))\n",
    "    c = a + b\n",
    "    print(\"result:\",c)\n",
    "    return c\n",
    "    print(\"Hello, World!\")\n",
    "\n",
    "print(my_function())"
   ]
  }
 ],
 "metadata": {
  "kernelspec": {
   "display_name": "Python 3",
   "language": "python",
   "name": "python3"
  },
  "language_info": {
   "codemirror_mode": {
    "name": "ipython",
    "version": 3
   },
   "file_extension": ".py",
   "mimetype": "text/x-python",
   "name": "python",
   "nbconvert_exporter": "python",
   "pygments_lexer": "ipython3",
   "version": "3.8.8"
  }
 },
 "nbformat": 4,
 "nbformat_minor": 5
}
