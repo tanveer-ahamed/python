{
 "cells": [
  {
   "cell_type": "code",
   "execution_count": null,
   "id": "68d50907",
   "metadata": {},
   "outputs": [],
   "source": [
    "# Task 8\n",
    "# Make a table of all the inbuilt data structures and point out the differences one by one"
   ]
  },
  {
   "cell_type": "markdown",
   "id": "11013919",
   "metadata": {},
   "source": [
    "|  Data Structure |   | Ordered |   | Mutable |   |   Constructor             |  |     Example            |  | Indexing and Slicing |\n",
    "|  ---------------|   |---------|   |---------|   |---------------------------|  |----------------------- |  |----------------------|\n",
    "|      List       |   |   Yes   |   |   Yes   |   | [ ] or list()             |  | [5, \"Hello\", 7.5]      |  |       Yes            |\n",
    "|      Tuple      |   |   Yes   |   |   No    |   | ( ) or tuple()            |  | (7, \"world\", 8.5)      |  |       Yes            |\n",
    "|      Set        |   |   No    |   |   Yes   |   | { } or set()              |  | {5, \"hello\", 6.5}      |  |       No             |\n",
    "|      Dictionary |   |   No    |   |   No    |   | {\"key\":\"value\" } or dict()|  | {\"jun\":75, \"march\":22} |  |       No             |"
   ]
  }
 ],
 "metadata": {
  "kernelspec": {
   "display_name": "Python 3",
   "language": "python",
   "name": "python3"
  },
  "language_info": {
   "codemirror_mode": {
    "name": "ipython",
    "version": 3
   },
   "file_extension": ".py",
   "mimetype": "text/x-python",
   "name": "python",
   "nbconvert_exporter": "python",
   "pygments_lexer": "ipython3",
   "version": "3.8.8"
  }
 },
 "nbformat": 4,
 "nbformat_minor": 5
}
