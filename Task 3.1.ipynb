{
 "cells": [
  {
   "cell_type": "code",
   "execution_count": null,
   "id": "3a714a82",
   "metadata": {},
   "outputs": [],
   "source": [
    "# TASK 3.1\n",
    "# go through the other inbuilt method like remove(), count(), clear(), sort(), reverse()"
   ]
  },
  {
   "cell_type": "code",
   "execution_count": 1,
   "id": "eda06c47",
   "metadata": {},
   "outputs": [
    {
     "name": "stdout",
     "output_type": "stream",
     "text": [
      "[1, 2, 3, 7]\n"
     ]
    }
   ],
   "source": [
    "# 1) .remove()\n",
    "\n",
    "x = [1,2,3,7,8]\n",
    "x.remove(8)\n",
    "print(x)"
   ]
  },
  {
   "cell_type": "code",
   "execution_count": 2,
   "id": "5fbbaf5c",
   "metadata": {},
   "outputs": [
    {
     "data": {
      "text/plain": [
       "3"
      ]
     },
     "execution_count": 2,
     "metadata": {},
     "output_type": "execute_result"
    }
   ],
   "source": [
    "# 2) .count()\n",
    "\n",
    "x = [1,2,5,9,2,6,2]\n",
    "x.count(2)"
   ]
  },
  {
   "cell_type": "code",
   "execution_count": 3,
   "id": "8ce2e337",
   "metadata": {},
   "outputs": [
    {
     "name": "stdout",
     "output_type": "stream",
     "text": [
      "[]\n"
     ]
    }
   ],
   "source": [
    "# 3) .clear()\n",
    "\n",
    "fruits = ['apple', 'banana', 'cherry', 'orange']\n",
    "fruits.clear()\n",
    "print(fruits)"
   ]
  },
  {
   "cell_type": "code",
   "execution_count": 4,
   "id": "0e14e60b",
   "metadata": {},
   "outputs": [
    {
     "name": "stdout",
     "output_type": "stream",
     "text": [
      "['BMW', 'Ford', 'Hyundai', 'Toyoto']\n"
     ]
    }
   ],
   "source": [
    "# 4) .sort()\n",
    "\n",
    "cars = ['Ford', 'BMW', 'Toyoto', 'Hyundai']\n",
    "cars.sort()\n",
    "print(cars)"
   ]
  },
  {
   "cell_type": "code",
   "execution_count": 5,
   "id": "35bf983c",
   "metadata": {},
   "outputs": [
    {
     "name": "stdout",
     "output_type": "stream",
     "text": [
      "[7, 6, 5, 4, 3, 2, 1]\n"
     ]
    }
   ],
   "source": [
    "# 5) .reverse()\n",
    "x = [1,2,3,4,5,6,7]\n",
    "\n",
    "x.reverse()\n",
    "print(x)"
   ]
  }
 ],
 "metadata": {
  "kernelspec": {
   "display_name": "Python 3",
   "language": "python",
   "name": "python3"
  },
  "language_info": {
   "codemirror_mode": {
    "name": "ipython",
    "version": 3
   },
   "file_extension": ".py",
   "mimetype": "text/x-python",
   "name": "python",
   "nbconvert_exporter": "python",
   "pygments_lexer": "ipython3",
   "version": "3.8.8"
  }
 },
 "nbformat": 4,
 "nbformat_minor": 5
}
