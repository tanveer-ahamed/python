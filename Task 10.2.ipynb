{
 "cells": [
  {
   "cell_type": "code",
   "execution_count": null,
   "id": "903b68ce",
   "metadata": {},
   "outputs": [],
   "source": [
    "# Task 10.2\n",
    "\n",
    "# what is pass keyword, with an example."
   ]
  },
  {
   "cell_type": "markdown",
   "id": "cd925c59",
   "metadata": {},
   "source": [
    "Pass\n",
    "\n",
    "Pass keyword does nothing but you can avoid getting an error when empty code is not allowed.\n",
    "Empty code is not allowed in loops, function definitions, class definitions, or in if statements."
   ]
  },
  {
   "cell_type": "code",
   "execution_count": 1,
   "id": "c5ad1054",
   "metadata": {},
   "outputs": [
    {
     "name": "stdout",
     "output_type": "stream",
     "text": [
      "1\n",
      "2\n",
      "3\n",
      "This is pass block: 4\n",
      "4\n",
      "5\n"
     ]
    }
   ],
   "source": [
    "for i in [1,2,3,4,5]:\n",
    "    if(i==4):\n",
    "        pass\n",
    "        print(\"This is pass block:\",i)\n",
    "    print(i)"
   ]
  }
 ],
 "metadata": {
  "kernelspec": {
   "display_name": "Python 3",
   "language": "python",
   "name": "python3"
  },
  "language_info": {
   "codemirror_mode": {
    "name": "ipython",
    "version": 3
   },
   "file_extension": ".py",
   "mimetype": "text/x-python",
   "name": "python",
   "nbconvert_exporter": "python",
   "pygments_lexer": "ipython3",
   "version": "3.8.8"
  }
 },
 "nbformat": 4,
 "nbformat_minor": 5
}
