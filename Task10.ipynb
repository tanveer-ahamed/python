{
 "cells": [
  {
   "cell_type": "code",
   "execution_count": null,
   "id": "d1d6cd9c",
   "metadata": {},
   "outputs": [],
   "source": [
    "# Task 10\n",
    "\n",
    "# Go through reduce(), zip(), enumerate()"
   ]
  },
  {
   "cell_type": "markdown",
   "id": "ec9aea88",
   "metadata": {},
   "source": [
    "# 1) reduce()\n",
    "\n",
    "\n",
    "The reduce() function accepts a function and a sequence and returns a single value calculated as follows:\n",
    "\n",
    "step1: Initially, the function is called with the first two items from the sequence and the result is returned.\n",
    "step2:The function is then called again with the result obtained in step 1 and the next value in the sequence. \n",
    "This process keeps repeating until there are items in the sequence.\n",
    "\n",
    "Syntax: reduce(function, sequence[, initial])\n",
    "    \n",
    "When the initial value is provided, the function is called with the initial value and the first item from the sequence."
   ]
  },
  {
   "cell_type": "code",
   "execution_count": 1,
   "id": "e620a03e",
   "metadata": {},
   "outputs": [
    {
     "name": "stdout",
     "output_type": "stream",
     "text": [
      "16\n"
     ]
    }
   ],
   "source": [
    "from functools import reduce\n",
    " \n",
    "def sum(x1, x2): \n",
    "    return x1 + x2\n",
    "\n",
    "print(reduce(sum, [1, 2, 3, 4, 6]))"
   ]
  },
  {
   "cell_type": "code",
   "execution_count": null,
   "id": "229731df",
   "metadata": {},
   "outputs": [],
   "source": []
  },
  {
   "cell_type": "markdown",
   "id": "dada8372",
   "metadata": {},
   "source": [
    "# 2) zip()\n",
    "\n",
    "The zip() function takes one or more sequences and combines the corresponding items in the sequences into a tuple.\n",
    "It stops when the shortest sequence is exhausted.\n",
    "\n",
    "The purpose of Python zip() method is to map the similar index of multiple containers so that they can be used just using as single entity.\n",
    "\n",
    "Syntax: zip(iter1 [,iter2 [...]])"
   ]
  },
  {
   "cell_type": "code",
   "execution_count": 2,
   "id": "76ec3885",
   "metadata": {},
   "outputs": [
    {
     "data": {
      "text/plain": [
       "<zip at 0x4f83780>"
      ]
     },
     "execution_count": 2,
     "metadata": {},
     "output_type": "execute_result"
    }
   ],
   "source": [
    "(zip([1, 2, 3, 4], \"hello\"))"
   ]
  },
  {
   "cell_type": "code",
   "execution_count": 3,
   "id": "b26f7b0e",
   "metadata": {},
   "outputs": [
    {
     "data": {
      "text/plain": [
       "[(1, 'h'), (2, 'e'), (3, 'l'), (4, 'l')]"
      ]
     },
     "execution_count": 3,
     "metadata": {},
     "output_type": "execute_result"
    }
   ],
   "source": [
    "# To produce the result wrap the zip() in a list() call\n",
    "\n",
    "list(zip([1, 2, 3, 4], \"hello\"))"
   ]
  },
  {
   "cell_type": "code",
   "execution_count": null,
   "id": "eda0e1ba",
   "metadata": {},
   "outputs": [],
   "source": []
  },
  {
   "cell_type": "markdown",
   "id": "bc33b9b4",
   "metadata": {},
   "source": [
    "# 3) enumerate()\n",
    "\n",
    "The enumerate() function takes an iterable and returns an enumerate object (an iterator) that produces a tuple of the form (index, value), \n",
    "where index refers to the offset of the item and item refers to the corresponding item from the iterable.\n",
    "\n",
    "iterable - (required) Any iterable object like string, list, dictionary\n",
    "\n",
    "start (optional) - Initial value of the index. It defaults to 0\n",
    "\n",
    "syntax:\n",
    "       enumerate(iterable[, start=0])"
   ]
  },
  {
   "cell_type": "code",
   "execution_count": 4,
   "id": "badd02d3",
   "metadata": {},
   "outputs": [
    {
     "data": {
      "text/plain": [
       "[(0, 'h'), (1, 'e'), (2, 'l'), (3, 'l'), (4, 'o')]"
      ]
     },
     "execution_count": 4,
     "metadata": {},
     "output_type": "execute_result"
    }
   ],
   "source": [
    " list(enumerate(\"hello\"))"
   ]
  },
  {
   "cell_type": "code",
   "execution_count": 5,
   "id": "1b051962",
   "metadata": {},
   "outputs": [
    {
     "name": "stdout",
     "output_type": "stream",
     "text": [
      "0 h\n",
      "1 e\n",
      "2 l\n",
      "3 l\n",
      "4 o\n"
     ]
    }
   ],
   "source": [
    "for index, value in enumerate(\"hello\"):\n",
    "    print(index, value)"
   ]
  }
 ],
 "metadata": {
  "kernelspec": {
   "display_name": "Python 3",
   "language": "python",
   "name": "python3"
  },
  "language_info": {
   "codemirror_mode": {
    "name": "ipython",
    "version": 3
   },
   "file_extension": ".py",
   "mimetype": "text/x-python",
   "name": "python",
   "nbconvert_exporter": "python",
   "pygments_lexer": "ipython3",
   "version": "3.8.8"
  }
 },
 "nbformat": 4,
 "nbformat_minor": 5
}
