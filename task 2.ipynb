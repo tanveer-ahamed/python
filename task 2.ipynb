{
 "cells": [
  {
   "cell_type": "code",
   "execution_count": 1,
   "id": "f9a6aba0",
   "metadata": {},
   "outputs": [],
   "source": [
    "#given a string for example\n",
    "\n",
    "str1 = \"Welcome to python\"\n",
    "\n",
    "#check if \"to\" is present in \"Welcome to python\""
   ]
  },
  {
   "cell_type": "code",
   "execution_count": 2,
   "id": "9868dd1e",
   "metadata": {},
   "outputs": [
    {
     "name": "stdout",
     "output_type": "stream",
     "text": [
      "True\n"
     ]
    }
   ],
   "source": [
    "str1 = \"Welcome to python\"\n",
    "\n",
    "print(\"to\" in str1)"
   ]
  }
 ],
 "metadata": {
  "kernelspec": {
   "display_name": "Python 3",
   "language": "python",
   "name": "python3"
  },
  "language_info": {
   "codemirror_mode": {
    "name": "ipython",
    "version": 3
   },
   "file_extension": ".py",
   "mimetype": "text/x-python",
   "name": "python",
   "nbconvert_exporter": "python",
   "pygments_lexer": "ipython3",
   "version": "3.8.8"
  }
 },
 "nbformat": 4,
 "nbformat_minor": 5
}
