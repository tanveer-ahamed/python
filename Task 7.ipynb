{
 "cells": [
  {
   "cell_type": "code",
   "execution_count": null,
   "id": "a530dca4",
   "metadata": {},
   "outputs": [],
   "source": [
    "# task 7 - go through other inbuilt methods like\n",
    "\n",
    "# 1) difference()  2) symmetric_difference()"
   ]
  },
  {
   "cell_type": "code",
   "execution_count": null,
   "id": "1f02326d",
   "metadata": {},
   "outputs": [],
   "source": [
    "# 1) difference()"
   ]
  },
  {
   "cell_type": "code",
   "execution_count": 1,
   "id": "2eaabca5",
   "metadata": {},
   "outputs": [
    {
     "name": "stdout",
     "output_type": "stream",
     "text": [
      "{10, 20}\n",
      "{100, 60}\n"
     ]
    }
   ],
   "source": [
    "A = {10, 20, 30, 40, 80}\n",
    "B = {100, 30, 80, 40, 60}\n",
    "\n",
    "print (A.difference(B))       #   elements present in A but not in B\n",
    "\n",
    "print (B.difference(A))       #   elements present in B but not in A"
   ]
  },
  {
   "cell_type": "code",
   "execution_count": null,
   "id": "32f7302e",
   "metadata": {},
   "outputs": [],
   "source": [
    "# 2) symmetric_difference()"
   ]
  },
  {
   "cell_type": "code",
   "execution_count": 2,
   "id": "e791801e",
   "metadata": {},
   "outputs": [
    {
     "name": "stdout",
     "output_type": "stream",
     "text": [
      "{1, 2, 5, 6, 7, 9}\n"
     ]
    }
   ],
   "source": [
    "set_A = {1, 2, 3, 4, 5}\n",
    "set_B = {6, 7, 3, 9, 4}\n",
    "\n",
    "print(set_A.symmetric_difference(set_B))     # The common elements {3,4} are discarded from the list"
   ]
  }
 ],
 "metadata": {
  "kernelspec": {
   "display_name": "Python 3",
   "language": "python",
   "name": "python3"
  },
  "language_info": {
   "codemirror_mode": {
    "name": "ipython",
    "version": 3
   },
   "file_extension": ".py",
   "mimetype": "text/x-python",
   "name": "python",
   "nbconvert_exporter": "python",
   "pygments_lexer": "ipython3",
   "version": "3.8.8"
  }
 },
 "nbformat": 4,
 "nbformat_minor": 5
}
