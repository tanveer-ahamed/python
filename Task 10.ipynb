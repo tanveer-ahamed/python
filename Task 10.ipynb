{
 "cells": [
  {
   "cell_type": "markdown",
   "id": "18fd7dab",
   "metadata": {},
   "source": [
    "# Task 10\n",
    "# Using while loop print numbers from 10 to 1"
   ]
  },
  {
   "cell_type": "code",
   "execution_count": 1,
   "id": "4bf667f5",
   "metadata": {},
   "outputs": [
    {
     "name": "stdout",
     "output_type": "stream",
     "text": [
      "10\n",
      "9\n",
      "8\n",
      "7\n",
      "6\n",
      "5\n",
      "4\n",
      "3\n",
      "2\n",
      "1\n",
      "End of while loop\n",
      "0\n"
     ]
    }
   ],
   "source": [
    "count = 10\n",
    "while(count>0):\n",
    "    print(count)\n",
    "    count = count - 1\n",
    "else:\n",
    "    print(\"End of while loop\")\n",
    "    print(count)"
   ]
  },
  {
   "cell_type": "markdown",
   "id": "05ec14cc",
   "metadata": {},
   "source": [
    "# try using \"for loop\" to loop over tuples, sets, and dictionaries"
   ]
  },
  {
   "cell_type": "code",
   "execution_count": 2,
   "id": "b0172d4e",
   "metadata": {},
   "outputs": [
    {
     "name": "stdout",
     "output_type": "stream",
     "text": [
      "apple\n",
      "7\n",
      "car\n",
      "2.2\n"
     ]
    }
   ],
   "source": [
    "# 1) Looping over Tuple\n",
    "\n",
    "tup = (\"apple\", 7, \"car\", 2.2)\n",
    "for x in tup:\n",
    "    print(x)"
   ]
  },
  {
   "cell_type": "code",
   "execution_count": 3,
   "id": "6132ec93",
   "metadata": {},
   "outputs": [
    {
     "name": "stdout",
     "output_type": "stream",
     "text": [
      "python\n",
      "7\n",
      "red\n"
     ]
    }
   ],
   "source": [
    "# 2) Looping over Sets\n",
    "\n",
    "s = {\"red\", 7, \"python\"}\n",
    "for x in s:\n",
    "    print(x)"
   ]
  },
  {
   "cell_type": "code",
   "execution_count": 4,
   "id": "e7603140",
   "metadata": {},
   "outputs": [
    {
     "name": "stdout",
     "output_type": "stream",
     "text": [
      "color\n",
      "fruit\n",
      "year\n"
     ]
    }
   ],
   "source": [
    "# 3) Looping over Dictionaries\n",
    "\n",
    "_dict = {'color': 'blue', 'fruit': 'apple', 'year': 2021}\n",
    "\n",
    "for key in _dict.keys():\n",
    "    print(key)"
   ]
  },
  {
   "cell_type": "code",
   "execution_count": 5,
   "id": "1a02eb38",
   "metadata": {},
   "outputs": [
    {
     "name": "stdout",
     "output_type": "stream",
     "text": [
      "blue\n",
      "apple\n",
      "2021\n"
     ]
    }
   ],
   "source": [
    "for value in _dict.values():\n",
    "    print(value)"
   ]
  },
  {
   "cell_type": "code",
   "execution_count": 6,
   "id": "c8d67e69",
   "metadata": {},
   "outputs": [
    {
     "name": "stdout",
     "output_type": "stream",
     "text": [
      "('color', 'blue')\n",
      "('fruit', 'apple')\n",
      "('year', 2021)\n"
     ]
    }
   ],
   "source": [
    "for item in _dict.items():\n",
    "    print(item)"
   ]
  }
 ],
 "metadata": {
  "kernelspec": {
   "display_name": "Python 3",
   "language": "python",
   "name": "python3"
  },
  "language_info": {
   "codemirror_mode": {
    "name": "ipython",
    "version": 3
   },
   "file_extension": ".py",
   "mimetype": "text/x-python",
   "name": "python",
   "nbconvert_exporter": "python",
   "pygments_lexer": "ipython3",
   "version": "3.8.8"
  }
 },
 "nbformat": 4,
 "nbformat_minor": 5
}
