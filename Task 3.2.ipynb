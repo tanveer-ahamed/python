{
 "cells": [
  {
   "cell_type": "code",
   "execution_count": null,
   "id": "f7365513",
   "metadata": {},
   "outputs": [],
   "source": [
    "# TASK 3.2\n",
    "# create a list of length = 10 and access 5th and 8th data"
   ]
  },
  {
   "cell_type": "code",
   "execution_count": 1,
   "id": "4716d9e8",
   "metadata": {},
   "outputs": [],
   "source": [
    "list = [1, \"hello\", 2.5, \"car\", 7, 9.5, 8, 1.5, \"blue\", \"train\"]"
   ]
  },
  {
   "cell_type": "code",
   "execution_count": 2,
   "id": "c7ab4e2f",
   "metadata": {},
   "outputs": [
    {
     "data": {
      "text/plain": [
       "10"
      ]
     },
     "execution_count": 2,
     "metadata": {},
     "output_type": "execute_result"
    }
   ],
   "source": [
    "len(list) # to check the length of list"
   ]
  },
  {
   "cell_type": "code",
   "execution_count": 3,
   "id": "f5a86ac4",
   "metadata": {},
   "outputs": [
    {
     "data": {
      "text/plain": [
       "9.5"
      ]
     },
     "execution_count": 3,
     "metadata": {},
     "output_type": "execute_result"
    }
   ],
   "source": [
    "list[5]   # to access 5th data"
   ]
  },
  {
   "cell_type": "code",
   "execution_count": 4,
   "id": "4d12218a",
   "metadata": {},
   "outputs": [
    {
     "data": {
      "text/plain": [
       "'blue'"
      ]
     },
     "execution_count": 4,
     "metadata": {},
     "output_type": "execute_result"
    }
   ],
   "source": [
    "list[8]   # to get 8th data"
   ]
  }
 ],
 "metadata": {
  "kernelspec": {
   "display_name": "Python 3",
   "language": "python",
   "name": "python3"
  },
  "language_info": {
   "codemirror_mode": {
    "name": "ipython",
    "version": 3
   },
   "file_extension": ".py",
   "mimetype": "text/x-python",
   "name": "python",
   "nbconvert_exporter": "python",
   "pygments_lexer": "ipython3",
   "version": "3.8.8"
  }
 },
 "nbformat": 4,
 "nbformat_minor": 5
}
