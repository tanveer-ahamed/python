{
 "cells": [
  {
   "cell_type": "code",
   "execution_count": null,
   "id": "dbf2c539",
   "metadata": {},
   "outputs": [],
   "source": [
    "# Task 9"
   ]
  },
  {
   "cell_type": "code",
   "execution_count": null,
   "id": "47d5e2b8",
   "metadata": {},
   "outputs": [],
   "source": [
    "# Ask 2 numbers from users and store it in num1 and num2\n",
    "#  Ask user to press 1 for addition, 2 for subtraction, 3 for multiplication, 4 for division\n",
    "#  based on number given by user do the math operation"
   ]
  },
  {
   "cell_type": "code",
   "execution_count": 1,
   "id": "ba9ea3da",
   "metadata": {},
   "outputs": [
    {
     "name": "stdout",
     "output_type": "stream",
     "text": [
      "Enter the 1st number: 5\n",
      "Enter the 2nd number: 7\n",
      "num1: 5\n",
      "num2: 7\n"
     ]
    }
   ],
   "source": [
    "num1 = int(input(\"Enter the 1st number: \"))\n",
    "num2 = int(input(\"Enter the 2nd number: \"))\n",
    "print(\"num1:\", num1)\n",
    "print(\"num2:\", num2)"
   ]
  },
  {
   "cell_type": "code",
   "execution_count": 1,
   "id": "ff6aae47",
   "metadata": {},
   "outputs": [
    {
     "name": "stdout",
     "output_type": "stream",
     "text": [
      "press number 1 for Addition:\n",
      "press number 2 for Subtraction:\n",
      "press number 3 for Multiplication:\n",
      "press number 4 for Division:\n",
      "1\n",
      "Enter the first number:4\n",
      "Enter the second number:3\n",
      "result: 7\n"
     ]
    }
   ],
   "source": [
    "num = int(input(\"press number 1 for Addition:\\n\"\n",
    "                \"press number 2 for Subtraction:\\n\"\n",
    "                \"press number 3 for Multiplication:\\n\"\n",
    "                \"press number 4 for Division:\\n\"))\n",
    "\n",
    "x = int(input(\"Enter the first number:\"))\n",
    "y = int(input(\"Enter the second number:\"))     \n",
    "\n",
    "if(num==1):\n",
    "    result = x+y\n",
    "    print(\"result:\", result)\n",
    "\n",
    "elif(num==2):\n",
    "    result = x-y\n",
    "    print(\"result:\", result)\n",
    "\n",
    "elif(num==3):\n",
    "    result = x*y\n",
    "    print(\"result:\", result)\n",
    "\n",
    "elif(num==4):\n",
    "    result = x/y\n",
    "    print(\"result:\", result)"
   ]
  }
 ],
 "metadata": {
  "kernelspec": {
   "display_name": "Python 3",
   "language": "python",
   "name": "python3"
  },
  "language_info": {
   "codemirror_mode": {
    "name": "ipython",
    "version": 3
   },
   "file_extension": ".py",
   "mimetype": "text/x-python",
   "name": "python",
   "nbconvert_exporter": "python",
   "pygments_lexer": "ipython3",
   "version": "3.8.8"
  }
 },
 "nbformat": 4,
 "nbformat_minor": 5
}
