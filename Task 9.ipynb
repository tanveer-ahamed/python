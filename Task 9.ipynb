{
 "cells": [
  {
   "cell_type": "code",
   "execution_count": null,
   "id": "9c329e23",
   "metadata": {},
   "outputs": [],
   "source": [
    "# Task 9"
   ]
  },
  {
   "cell_type": "code",
   "execution_count": null,
   "id": "8aeb3321",
   "metadata": {},
   "outputs": [],
   "source": [
    "# Ask 2 numbers from users and store it in num1 and num2\n",
    "#  Ask user to press 1 for addition, 2 for subtraction, 3 for multiplication, 4 for division\n",
    "#  based on number given by user do the math operation"
   ]
  },
  {
   "cell_type": "code",
   "execution_count": 1,
   "id": "83fce1af",
   "metadata": {},
   "outputs": [
    {
     "name": "stdout",
     "output_type": "stream",
     "text": [
      "Enter the 1st number: 25\n",
      "Enter the 2nd number: 5\n",
      "num1: 25\n",
      "num2: 5\n",
      "press number 1 for Addition:\n",
      "press number 2 for Subtraction:\n",
      "press number 3 for Multiplication:\n",
      "press number 4 for Division:\n",
      "press the number: 3\n",
      "result: 125\n"
     ]
    }
   ],
   "source": [
    "num1 = int(input(\"Enter the 1st number: \"))\n",
    "num2 = int(input(\"Enter the 2nd number: \"))\n",
    "print(\"num1:\", num1)\n",
    "print(\"num2:\", num2)\n",
    "\n",
    "num = int(input(\"press number 1 for Addition:\\n\"\n",
    "                \"press number 2 for Subtraction:\\n\"\n",
    "                \"press number 3 for Multiplication:\\n\"\n",
    "                \"press number 4 for Division:\\n\"\n",
    "                \"press the number: \"))\n",
    "if(num==1):\n",
    "    result = num1+num2\n",
    "    print(\"result:\", result)\n",
    "\n",
    "elif(num==2):\n",
    "    result = num1-num2\n",
    "    print(\"result:\", result)\n",
    "\n",
    "elif(num==3):\n",
    "    result = num1*num2\n",
    "    print(\"result:\", result)\n",
    "    \n",
    "elif(num2==0):\n",
    "    print(\"Enter num2 a non-zero number\")\n",
    "elif(num==4):\n",
    "    result = num1/num2\n",
    "    print(\"result:\", result)    "
   ]
  }
 ],
 "metadata": {
  "kernelspec": {
   "display_name": "Python 3",
   "language": "python",
   "name": "python3"
  },
  "language_info": {
   "codemirror_mode": {
    "name": "ipython",
    "version": 3
   },
   "file_extension": ".py",
   "mimetype": "text/x-python",
   "name": "python",
   "nbconvert_exporter": "python",
   "pygments_lexer": "ipython3",
   "version": "3.8.8"
  }
 },
 "nbformat": 4,
 "nbformat_minor": 5
}
