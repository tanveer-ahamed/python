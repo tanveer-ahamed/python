{
 "cells": [
  {
   "cell_type": "code",
   "execution_count": null,
   "id": "53933f93",
   "metadata": {},
   "outputs": [],
   "source": [
    "# task 4"
   ]
  },
  {
   "cell_type": "code",
   "execution_count": 1,
   "id": "4491bf06",
   "metadata": {},
   "outputs": [],
   "source": [
    "# 1) Add item 70 after 60 in the folllowing python list\n",
    "l1 = [10, 20, [30, 40, [50, 60], 80], 90, 100]"
   ]
  },
  {
   "cell_type": "code",
   "execution_count": 2,
   "id": "bc09257b",
   "metadata": {},
   "outputs": [
    {
     "data": {
      "text/plain": [
       "[10, 20, [30, 40, [50, 60], 80], 90, 100]"
      ]
     },
     "execution_count": 2,
     "metadata": {},
     "output_type": "execute_result"
    }
   ],
   "source": [
    "l1"
   ]
  },
  {
   "cell_type": "code",
   "execution_count": 3,
   "id": "97b8e6c8",
   "metadata": {},
   "outputs": [
    {
     "data": {
      "text/plain": [
       "[30, 40, [50, 60], 80]"
      ]
     },
     "execution_count": 3,
     "metadata": {},
     "output_type": "execute_result"
    }
   ],
   "source": [
    "l1[2]"
   ]
  },
  {
   "cell_type": "code",
   "execution_count": 4,
   "id": "5aa6ca69",
   "metadata": {},
   "outputs": [
    {
     "name": "stdout",
     "output_type": "stream",
     "text": [
      "[10, 20, [30, 40, [50, 60, 70], 80], 90, 100]\n"
     ]
    }
   ],
   "source": [
    "l1[2:] = [[30, 40, [50, 60, 70], 80], 90, 100]\n",
    "print(l1)"
   ]
  },
  {
   "cell_type": "code",
   "execution_count": null,
   "id": "114a3f8e",
   "metadata": {},
   "outputs": [],
   "source": [
    "# 2) Add sublist [7, 8] after 6"
   ]
  },
  {
   "cell_type": "code",
   "execution_count": 5,
   "id": "ecb5876c",
   "metadata": {},
   "outputs": [],
   "source": [
    "l2 = [1, 2,[3,4,5,6],9]"
   ]
  },
  {
   "cell_type": "code",
   "execution_count": 6,
   "id": "d3a6ca7f",
   "metadata": {},
   "outputs": [
    {
     "data": {
      "text/plain": [
       "[1, 2, [3, 4, 5, 6], 9]"
      ]
     },
     "execution_count": 6,
     "metadata": {},
     "output_type": "execute_result"
    }
   ],
   "source": [
    "l2"
   ]
  },
  {
   "cell_type": "code",
   "execution_count": 7,
   "id": "92f0e12b",
   "metadata": {},
   "outputs": [
    {
     "data": {
      "text/plain": [
       "[3, 4, 5, 6]"
      ]
     },
     "execution_count": 7,
     "metadata": {},
     "output_type": "execute_result"
    }
   ],
   "source": [
    "l2[2]"
   ]
  },
  {
   "cell_type": "code",
   "execution_count": 8,
   "id": "248e653c",
   "metadata": {},
   "outputs": [
    {
     "data": {
      "text/plain": [
       "[1, 2, [3, 4, 5, 6, [7, 8]], 9]"
      ]
     },
     "execution_count": 8,
     "metadata": {},
     "output_type": "execute_result"
    }
   ],
   "source": [
    "l2[2:] = [[3, 4, 5, 6, [7,8]],9]\n",
    "l2"
   ]
  }
 ],
 "metadata": {
  "kernelspec": {
   "display_name": "Python 3",
   "language": "python",
   "name": "python3"
  },
  "language_info": {
   "codemirror_mode": {
    "name": "ipython",
    "version": 3
   },
   "file_extension": ".py",
   "mimetype": "text/x-python",
   "name": "python",
   "nbconvert_exporter": "python",
   "pygments_lexer": "ipython3",
   "version": "3.8.8"
  }
 },
 "nbformat": 4,
 "nbformat_minor": 5
}
