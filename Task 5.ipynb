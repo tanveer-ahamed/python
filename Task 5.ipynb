{
 "cells": [
  {
   "cell_type": "code",
   "execution_count": null,
   "id": "1ad5b9f3",
   "metadata": {},
   "outputs": [],
   "source": [
    "# task 5"
   ]
  },
  {
   "cell_type": "code",
   "execution_count": 1,
   "id": "37cc3272",
   "metadata": {},
   "outputs": [],
   "source": [
    "dict1  = {\n",
    "    \"april_batch\":{\n",
    "        \"student\":{\n",
    "            \"name\":\"Mike\",\n",
    "            \"marks\":{\n",
    "                \"python\":80,\n",
    "                \"maths\":70\n",
    "            }\n",
    "        }\n",
    "    }\n",
    "}\n",
    "\n",
    "#from the above dictionary, do the following tasks\n",
    "#     1) access \"Mike\"\n",
    "#    2) access 80\n",
    "#   3) change \"Mike\" to \"your name\"\n",
    "#  4) add ML=80 and DL=80 inside marks "
   ]
  },
  {
   "cell_type": "code",
   "execution_count": 2,
   "id": "41b330d3",
   "metadata": {},
   "outputs": [
    {
     "data": {
      "text/plain": [
       "'Mike'"
      ]
     },
     "execution_count": 2,
     "metadata": {},
     "output_type": "execute_result"
    }
   ],
   "source": [
    "dict1[\"april_batch\"][\"student\"][\"name\"]    # 1) access \"Mike\""
   ]
  },
  {
   "cell_type": "code",
   "execution_count": 3,
   "id": "1661b891",
   "metadata": {},
   "outputs": [
    {
     "data": {
      "text/plain": [
       "80"
      ]
     },
     "execution_count": 3,
     "metadata": {},
     "output_type": "execute_result"
    }
   ],
   "source": [
    "dict1[\"april_batch\"][\"student\"][\"marks\"][\"python\"]   # 2) access 80"
   ]
  },
  {
   "cell_type": "code",
   "execution_count": 4,
   "id": "f2898655",
   "metadata": {},
   "outputs": [
    {
     "data": {
      "text/plain": [
       "{'april_batch': {'student': {'name': 'tanveer',\n",
       "   'marks': {'python': 80, 'maths': 70}}}}"
      ]
     },
     "execution_count": 4,
     "metadata": {},
     "output_type": "execute_result"
    }
   ],
   "source": [
    "dict1[\"april_batch\"][\"student\"][\"name\"] = \"tanveer\"     # 3) change \"Mike\" to \"your name\"\n",
    "dict1"
   ]
  },
  {
   "cell_type": "code",
   "execution_count": null,
   "id": "77ced704",
   "metadata": {},
   "outputs": [],
   "source": [
    "# 4) add ML=80 and DL=80 inside marks"
   ]
  },
  {
   "cell_type": "code",
   "execution_count": 5,
   "id": "ba5299b0",
   "metadata": {},
   "outputs": [
    {
     "data": {
      "text/plain": [
       "{'april_batch': {'student': {'name': 'tanveer',\n",
       "   'marks': {'python': 80, 'maths': 70, 'ML': 80}}}}"
      ]
     },
     "execution_count": 5,
     "metadata": {},
     "output_type": "execute_result"
    }
   ],
   "source": [
    "dict1[\"april_batch\"][\"student\"][\"marks\"][\"ML\"]= 80\n",
    "dict1"
   ]
  },
  {
   "cell_type": "code",
   "execution_count": 6,
   "id": "f438a00a",
   "metadata": {},
   "outputs": [
    {
     "data": {
      "text/plain": [
       "{'april_batch': {'student': {'name': 'tanveer',\n",
       "   'marks': {'python': 80, 'maths': 70, 'ML': 80, 'DL': 80}}}}"
      ]
     },
     "execution_count": 6,
     "metadata": {},
     "output_type": "execute_result"
    }
   ],
   "source": [
    "dict1[\"april_batch\"][\"student\"][\"marks\"][\"DL\"]= 80\n",
    "dict1"
   ]
  }
 ],
 "metadata": {
  "kernelspec": {
   "display_name": "Python 3",
   "language": "python",
   "name": "python3"
  },
  "language_info": {
   "codemirror_mode": {
    "name": "ipython",
    "version": 3
   },
   "file_extension": ".py",
   "mimetype": "text/x-python",
   "name": "python",
   "nbconvert_exporter": "python",
   "pygments_lexer": "ipython3",
   "version": "3.8.8"
  }
 },
 "nbformat": 4,
 "nbformat_minor": 5
}
